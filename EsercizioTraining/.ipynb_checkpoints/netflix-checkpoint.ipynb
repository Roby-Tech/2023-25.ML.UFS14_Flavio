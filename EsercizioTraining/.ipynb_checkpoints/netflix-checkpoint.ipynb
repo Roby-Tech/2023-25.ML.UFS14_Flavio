{
 "cells": [
  {
   "cell_type": "code",
   "execution_count": 8,
   "id": "bd81db9d",
   "metadata": {},
   "outputs": [
    {
     "name": "stdout",
     "output_type": "stream",
     "text": [
      "/home/ec2-user/SageMaker/2023-25.ML.UFS14_Flavio/EsercizioTraining\n",
      "  show_id     type                  title         director  \\\n",
      "0      s1    Movie   Dick Johnson Is Dead  Kirsten Johnson   \n",
      "1      s2  TV Show          Blood & Water              NaN   \n",
      "2      s3  TV Show              Ganglands  Julien Leclercq   \n",
      "3      s4  TV Show  Jailbirds New Orleans              NaN   \n",
      "4      s5  TV Show           Kota Factory              NaN   \n",
      "\n",
      "                                                cast        country  \\\n",
      "0                                                NaN  United States   \n",
      "1  Ama Qamata, Khosi Ngema, Gail Mabalane, Thaban...   South Africa   \n",
      "2  Sami Bouajila, Tracy Gotoas, Samuel Jouy, Nabi...            NaN   \n",
      "3                                                NaN            NaN   \n",
      "4  Mayur More, Jitendra Kumar, Ranjan Raj, Alam K...          India   \n",
      "\n",
      "           date_added  release_year rating   duration  ... Unnamed: 16  \\\n",
      "0  September 25, 2021          2020  PG-13     90 min  ...         NaN   \n",
      "1  September 24, 2021          2021  TV-MA  2 Seasons  ...         NaN   \n",
      "2  September 24, 2021          2021  TV-MA   1 Season  ...         NaN   \n",
      "3  September 24, 2021          2021  TV-MA   1 Season  ...         NaN   \n",
      "4  September 24, 2021          2021  TV-MA  2 Seasons  ...         NaN   \n",
      "\n",
      "  Unnamed: 17  Unnamed: 18  Unnamed: 19  Unnamed: 20  Unnamed: 21  \\\n",
      "0         NaN          NaN          NaN          NaN          NaN   \n",
      "1         NaN          NaN          NaN          NaN          NaN   \n",
      "2         NaN          NaN          NaN          NaN          NaN   \n",
      "3         NaN          NaN          NaN          NaN          NaN   \n",
      "4         NaN          NaN          NaN          NaN          NaN   \n",
      "\n",
      "   Unnamed: 22  Unnamed: 23  Unnamed: 24  Unnamed: 25  \n",
      "0          NaN          NaN          NaN          NaN  \n",
      "1          NaN          NaN          NaN          NaN  \n",
      "2          NaN          NaN          NaN          NaN  \n",
      "3          NaN          NaN          NaN          NaN  \n",
      "4          NaN          NaN          NaN          NaN  \n",
      "\n",
      "[5 rows x 26 columns]\n"
     ]
    }
   ],
   "source": [
    "# Importare le librerie necessarie\n",
    "import pandas as pd\n",
    "import os\n",
    "from sklearn.model_selection import train_test_split\n",
    "from sklearn.feature_extraction.text import TfidfVectorizer\n",
    "from sklearn.preprocessing import LabelEncoder\n",
    "from sklearn.ensemble import RandomForestClassifier\n",
    "from sklearn.metrics import classification_report, accuracy_score\n",
    "\n",
    "# 1. Caricare i dati\n",
    "file_path = '/home/ec2-user/SageMaker/2023-25.ML.UFS14_Flavio/data/input/netflix_titles.csv'\n",
    "df = pd.read_csv(file_path, encoding= 'latin1')\n",
    "\n",
    "# Visualizzare le prime righe per verificare il caricamento corretto\n",
    "print(df.head())"
   ]
  },
  {
   "cell_type": "code",
   "execution_count": null,
   "id": "6e2caec9",
   "metadata": {},
   "outputs": [],
   "source": [
    "\n",
    "# 2. Pre-processing\n",
    "# Selezionare solo le colonne rilevanti per l'analisi\n",
    "df = df[['type', 'release_year', 'rating', 'duration', 'listed_in', 'description']]\n",
    "\n",
    "# Rimuovere righe con valori nulli nelle colonne critiche\n",
    "df = df.dropna(subset=['description', 'listed_in', 'rating', 'duration'])\n",
    "\n",
    "# Codificare la variabile target `listed_in` (il genere) per trasformarla in numeri\n",
    "# Nota: qui `listed_in` può contenere più generi, quindi estrarremo solo il primo genere per semplicità\n",
    "df['genre'] = df['listed_in'].apply(lambda x: x.split(',')[0].strip())\n"
   ]
  },
  {
   "cell_type": "code",
   "execution_count": null,
   "id": "261eaebc",
   "metadata": {},
   "outputs": [],
   "source": [
    "# Convertire il testo in numeri usando TfidfVectorizer per la colonna 'description'\n",
    "vectorizer = TfidfVectorizer(max_features=3000, stop_words='english')\n",
    "description_matrix = vectorizer.fit_transform(df['description'])\n",
    "\n",
    "# Codificare le variabili categoriche come 'type' e 'rating'\n",
    "df['type_encoded'] = LabelEncoder().fit_transform(df['type'])\n",
    "df['rating_encoded'] = LabelEncoder().fit_transform(df['rating'])\n",
    "\n",
    "# Processare la durata come numerica (estraendo il numero di minuti o stagioni)\n",
    "df['duration_numeric'] = df['duration'].str.extract('(\\d+)').astype(float)"
   ]
  },
  {
   "cell_type": "code",
   "execution_count": null,
   "id": "8d888a80",
   "metadata": {},
   "outputs": [],
   "source": [
    "# Combinare tutte le caratteristiche\n",
    "import numpy as np\n",
    "X = np.hstack((description_matrix.toarray(), df[['type_encoded', 'rating_encoded', 'release_year', 'duration_numeric']].values))\n",
    "\n",
    "# Variabile target\n",
    "y = df['genre']\n",
    "\n",
    "# 3. Suddivisione in train e test set\n",
    "X_train, X_test, y_train, y_test = train_test_split(X, y, test_size=0.2, random_state=42)\n",
    "\n",
    "# 4. Addestramento del modello\n",
    "model = RandomForestClassifier(n_estimators=100, random_state=42)\n",
    "model.fit(X_train, y_train)"
   ]
  },
  {
   "cell_type": "code",
   "execution_count": null,
   "id": "6eb0347f",
   "metadata": {},
   "outputs": [],
   "source": [
    "# 5. Valutazione del modello\n",
    "y_pred = model.predict(X_test)\n",
    "print(\"Accuracy:\", accuracy_score(y_test, y_pred))\n",
    "print(classification_report(y_test, y_pred))\n"
   ]
  }
 ],
 "metadata": {
  "kernelspec": {
   "display_name": "conda_python3",
   "language": "python",
   "name": "conda_python3"
  },
  "language_info": {
   "codemirror_mode": {
    "name": "ipython",
    "version": 3
   },
   "file_extension": ".py",
   "mimetype": "text/x-python",
   "name": "python",
   "nbconvert_exporter": "python",
   "pygments_lexer": "ipython3",
   "version": "3.10.15"
  }
 },
 "nbformat": 4,
 "nbformat_minor": 5
}
