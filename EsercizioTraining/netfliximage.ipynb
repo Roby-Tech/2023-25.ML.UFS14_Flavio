{
 "cells": [
  {
   "cell_type": "code",
   "execution_count": null,
   "id": "28a4dd5c",
   "metadata": {},
   "outputs": [],
   "source": [
    "import scipy.sparse\n",
    "from sagemaker import image_uris\n",
    "image_uris.retrieve(framework='tensorflow',region='us-east-1',version='1.12.0',image_scope='inference',instance_type='ml.c5.4xlarge')"
   ]
  },
  {
   "cell_type": "code",
   "execution_count": null,
   "id": "f5c0fa65",
   "metadata": {},
   "outputs": [],
   "source": [
    "!aws ecr get-login-password --region us-east-1 | docker login --username AWS --password-stdin 520713654638.dkr.ecr.us-east-1.amazonaws.com"
   ]
  },
  {
   "cell_type": "code",
   "execution_count": null,
   "id": "46923a3a",
   "metadata": {},
   "outputs": [],
   "source": [
    "!docker pull 520713654638.dkr.ecr.us-east-1.amazonaws.com/sagemaker-tensorflow-serving:1.12.0-cpu"
   ]
  },
  {
   "cell_type": "code",
   "execution_count": null,
   "id": "2c81ab65",
   "metadata": {},
   "outputs": [],
   "source": [
    "import scipy.sparse\n",
    "from sagemaker import image_uris\n",
    "image_uris.retrieve(framework='tensorflow',region='us-east-1',version='2.12.0',image_scope='training',instance_type='ml.c5.4xlarge')"
   ]
  },
  {
   "cell_type": "code",
   "execution_count": null,
   "id": "449395a4",
   "metadata": {},
   "outputs": [],
   "source": [
    "!aws ecr get-login-password --region us-east-1 | docker login --username AWS --password-stdin  763104351884.dkr.ecr.us-east-1.amazonaws.com"
   ]
  },
  {
   "cell_type": "code",
   "execution_count": null,
   "id": "99831c00",
   "metadata": {},
   "outputs": [],
   "source": [
    "!docker build -t tensorflow-training:2.12.0-cpu-py310-netflix -f Dockerfile.train ."
   ]
  },
  {
   "cell_type": "code",
   "execution_count": null,
   "id": "ca6630e6",
   "metadata": {},
   "outputs": [],
   "source": [
    "!docker images"
   ]
  },
  {
   "cell_type": "code",
   "execution_count": null,
   "id": "805b5b5e",
   "metadata": {},
   "outputs": [],
   "source": [
    "from sagemaker import get_execution_role\n",
    "from sagemaker.estimator import Estimator\n",
    "import os\n",
    "\n",
    "role=get_execution_role()\n",
    "\n",
    "hyperparameters={'epochs': 1}\n",
    "\n",
    "estimator=Estimator(\n",
    "    image_uri='tensorflow-training:2.12.0-cpu-py310-netflix',\n",
    "    role=role,\n",
    "    instance_count=1,\n",
    "    instance_type='local',\n",
    "    hyperparameters=hyperparameters,\n",
    "    output_path='file://{}/data/output'.format(os.getcwd())\n",
    ")\n",
    "\n",
    "print('##### ESTIMATOR FIT STARTED')\n",
    "estimator.fit('file://{}/data/input/netflix_titles.csv'.format(os.getcwd()))\n",
    "print('##### ESTIMATOR FIT COMPLETED')"
   ]
  },
  {
   "cell_type": "code",
   "execution_count": null,
   "id": "0c1845d0",
   "metadata": {},
   "outputs": [],
   "source": [
    "!tar -xzf data/output/output.tar.gz"
   ]
  },
  {
   "cell_type": "code",
   "execution_count": null,
   "id": "bd4644b7",
   "metadata": {},
   "outputs": [],
   "source": [
    "!tar -xzf ./data/output/model.tar.gz"
   ]
  },
  {
   "cell_type": "code",
   "execution_count": null,
   "id": "8255f8a2",
   "metadata": {},
   "outputs": [],
   "source": [
    "%%sh\n",
    "# Specify an image name\n",
    "image_name=tensorflow-training\n",
    "echo \"image_name: ${image_name} ######################\"\n",
    "\n",
    "account=$(aws sts get-caller-identity --query Account --output text)\n",
    "echo \"account: ${account} ######################\"\n",
    "\n",
    "# Get the region defined in the current configuration (default to us-west-2 if none defined)\n",
    "region=$(aws configure get region)\n",
    "echo \"region: ${region} ######################\"\n",
    "\n",
    "fullname=\"${account}.dkr.ecr.${region}.amazonaws.com/${image_name}:2.12.0-cpu-py310-netflix\"\n",
    "echo \"fullname: ${fullname} ######################\"\n",
    "\n",
    "aws ecr create-repository --repository-name \"${image_name}\""
   ]
  },
  {
   "cell_type": "code",
   "execution_count": null,
   "id": "d2c6fa5f",
   "metadata": {},
   "outputs": [],
   "source": [
    "!aws ecr get-login-password --region us-east-1 | docker login --username AWS --password-stdin 737368952498.dkr.ecr.us-east-1.amazonaws.com"
   ]
  },
  {
   "cell_type": "code",
   "execution_count": null,
   "id": "a7d62bcb",
   "metadata": {},
   "outputs": [],
   "source": [
    "!docker push 737368952498.dkr.ecr.us-east-1.amazonaws.com/tensorflow-training:2.12.0-cpu-py310-netflix"
   ]
  },
  {
   "cell_type": "code",
   "execution_count": null,
   "id": "85998857",
   "metadata": {},
   "outputs": [],
   "source": [
    "!docker tag tensorflow-training:2.12.0-cpu-py310-netflix 737368952498.dkr.ecr.us-east-1.amazonaws.com/tensorflow-training:2.12.0-cpu-py310-netflix"
   ]
  },
  {
   "cell_type": "code",
   "execution_count": null,
   "id": "e3972845",
   "metadata": {},
   "outputs": [],
   "source": []
  }
 ],
 "metadata": {
  "kernelspec": {
   "display_name": "conda_python3",
   "language": "python",
   "name": "conda_python3"
  },
  "language_info": {
   "codemirror_mode": {
    "name": "ipython",
    "version": 3
   },
   "file_extension": ".py",
   "mimetype": "text/x-python",
   "name": "python",
   "nbconvert_exporter": "python",
   "pygments_lexer": "ipython3",
   "version": "3.10.15"
  }
 },
 "nbformat": 4,
 "nbformat_minor": 5
}
