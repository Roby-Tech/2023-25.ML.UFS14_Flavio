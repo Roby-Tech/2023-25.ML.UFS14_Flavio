{
 "cells": [
  {
   "cell_type": "code",
   "execution_count": 16,
   "id": "da48f5ab",
   "metadata": {},
   "outputs": [
    {
     "data": {
      "text/plain": [
       "'520713654638.dkr.ecr.us-east-1.amazonaws.com/sagemaker-tensorflow-serving:1.12.0-cpu'"
      ]
     },
     "execution_count": 16,
     "metadata": {},
     "output_type": "execute_result"
    }
   ],
   "source": [
    "import scipy.sparse\n",
    "from sagemaker import image_uris\n",
    "image_uris.retrieve(framework='tensorflow',region='us-east-1',version='1.12.0',image_scope='inference',instance_type='ml.c5.4xlarge')"
   ]
  },
  {
   "cell_type": "code",
   "execution_count": 17,
   "id": "be07476b",
   "metadata": {},
   "outputs": [
    {
     "name": "stdout",
     "output_type": "stream",
     "text": [
      "WARNING! Your password will be stored unencrypted in /home/ec2-user/.docker/config.json.\n",
      "Configure a credential helper to remove this warning. See\n",
      "https://docs.docker.com/engine/reference/commandline/login/#credentials-store\n",
      "\n",
      "Login Succeeded\n"
     ]
    }
   ],
   "source": [
    "!aws ecr get-login-password --region us-east-1 | docker login --username AWS --password-stdin 520713654638.dkr.ecr.us-east-1.amazonaws.com"
   ]
  },
  {
   "cell_type": "code",
   "execution_count": 18,
   "id": "ab693491",
   "metadata": {},
   "outputs": [
    {
     "name": "stdout",
     "output_type": "stream",
     "text": [
      "1.12.0-cpu: Pulling from sagemaker-tensorflow-serving\n",
      "Digest: sha256:026c2a51a2e9e258481b17c110f9c9640dc010bf71463d4bd31e925ced7c6a49\n",
      "Status: Image is up to date for 520713654638.dkr.ecr.us-east-1.amazonaws.com/sagemaker-tensorflow-serving:1.12.0-cpu\n",
      "520713654638.dkr.ecr.us-east-1.amazonaws.com/sagemaker-tensorflow-serving:1.12.0-cpu\n"
     ]
    }
   ],
   "source": [
    "!docker pull 520713654638.dkr.ecr.us-east-1.amazonaws.com/sagemaker-tensorflow-serving:1.12.0-cpu"
   ]
  },
  {
   "cell_type": "code",
   "execution_count": 19,
   "id": "c2dabf59",
   "metadata": {},
   "outputs": [
    {
     "name": "stderr",
     "output_type": "stream",
     "text": [
      "INFO:sagemaker.image_uris:Defaulting to only available Python version: py310\n"
     ]
    },
    {
     "data": {
      "text/plain": [
       "'763104351884.dkr.ecr.us-east-1.amazonaws.com/tensorflow-training:2.12.0-cpu-py310'"
      ]
     },
     "execution_count": 19,
     "metadata": {},
     "output_type": "execute_result"
    }
   ],
   "source": [
    "import scipy.sparse\n",
    "from sagemaker import image_uris\n",
    "image_uris.retrieve(framework='tensorflow',region='us-east-1',version='2.12.0',image_scope='training',instance_type='ml.c5.4xlarge')"
   ]
  },
  {
   "cell_type": "code",
   "execution_count": null,
   "id": "95c48e83",
   "metadata": {},
   "outputs": [],
   "source": [
    "!aws ecr get-login-password --region us-east-1 | docker login --username AWS --password-stdin  763104351884.dkr.ecr.us-east-1.amazonaws.com"
   ]
  },
  {
   "cell_type": "code",
   "execution_count": 21,
   "id": "64be6881",
   "metadata": {},
   "outputs": [
    {
     "name": "stdout",
     "output_type": "stream",
     "text": [
      "\u001b[1A\u001b[1B\u001b[0G\u001b[?25l[+] Building 0.0s (0/1)                                          docker:default\n",
      "\u001b[?25h\u001b[1A\u001b[0G\u001b[?25l[+] Building 0.1s (3/3)                                          docker:default\n",
      "\u001b[34m => [internal] load build definition from Dockerfile.train                 0.0s\n",
      "\u001b[0m\u001b[34m => => transferring dockerfile: 200B                                       0.0s\n",
      "\u001b[0m\u001b[34m => [internal] load metadata for 763104351884.dkr.ecr.us-east-1.amazonaws  0.1s\n",
      "\u001b[0m\u001b[34m => [auth] sharing credentials for 763104351884.dkr.ecr.us-east-1.amazona  0.0s\n",
      "\u001b[0m\u001b[?25h\u001b[1A\u001b[1A\u001b[1A\u001b[1A\u001b[1A\u001b[0G\u001b[?25l[+] Building 0.2s (8/8) FINISHED                                 docker:default\n",
      "\u001b[34m => [internal] load build definition from Dockerfile.train                 0.0s\n",
      "\u001b[0m\u001b[34m => => transferring dockerfile: 200B                                       0.0s\n",
      "\u001b[0m\u001b[34m => [internal] load metadata for 763104351884.dkr.ecr.us-east-1.amazonaws  0.1s\n",
      "\u001b[0m\u001b[34m => [auth] sharing credentials for 763104351884.dkr.ecr.us-east-1.amazona  0.0s\n",
      "\u001b[0m\u001b[34m => [internal] load .dockerignore                                          0.0s\n",
      "\u001b[0m\u001b[34m => => transferring context: 2B                                            0.0s\n",
      "\u001b[0m\u001b[34m => [internal] load build context                                          0.0s\n",
      "\u001b[0m\u001b[34m => => transferring context: 29B                                           0.0s\n",
      "\u001b[0m\u001b[34m => [1/2] FROM 763104351884.dkr.ecr.us-east-1.amazonaws.com/tensorflow-tr  0.0s\n",
      "\u001b[0m\u001b[34m => CACHED [2/2] ADD ./main.py /opt/ml/code/main.py                        0.0s\n",
      "\u001b[0m\u001b[34m => exporting to image                                                     0.0s\n",
      "\u001b[0m\u001b[34m => => exporting layers                                                    0.0s\n",
      "\u001b[0m\u001b[34m => => writing image sha256:615420fb1883fec76f796b349a5a4a2f40249cc42fd44  0.0s\n",
      "\u001b[0m\u001b[34m => => naming to docker.io/library/tensorflow-training:2.12.0-cpu-py310-n  0.0s\n",
      "\u001b[0m\u001b[?25h"
     ]
    }
   ],
   "source": [
    "!docker build -t tensorflow-training:2.12.0-cpu-py310-name_tag -f Dockerfile.train ."
   ]
  },
  {
   "cell_type": "code",
   "execution_count": 22,
   "id": "2c372430",
   "metadata": {},
   "outputs": [
    {
     "name": "stdout",
     "output_type": "stream",
     "text": [
      "REPOSITORY                                                                  TAG                         IMAGE ID       CREATED          SIZE\n",
      "ciao                                                                        mondo                       615420fb1883   21 minutes ago   6.13GB\n",
      "tensorflow-training                                                         2.12.0-cpu-py310-name_tag   615420fb1883   21 minutes ago   6.13GB\n",
      "520713654638.dkr.ecr.us-east-1.amazonaws.com/sagemaker-tensorflow-serving   1.12.0-cpu                  27aee10a9f6a   4 years ago      377MB\n"
     ]
    }
   ],
   "source": [
    "!docker images"
   ]
  },
  {
   "cell_type": "code",
   "execution_count": 23,
   "id": "e4cb0a4e",
   "metadata": {},
   "outputs": [
    {
     "name": "stderr",
     "output_type": "stream",
     "text": [
      "INFO:botocore.credentials:Found credentials from IAM Role: BaseNotebookInstanceEc2InstanceRole\n",
      "INFO:sagemaker:Creating training-job with name: tensorflow-training-2024-10-18-13-19-06-555\n",
      "INFO:sagemaker.telemetry.telemetry_logging:SageMaker Python SDK will collect telemetry to help us better understand our user's needs, diagnose issues, and deliver additional features.\n",
      "To opt out of telemetry, please disable via TelemetryOptOut parameter in SDK defaults config. For more information, refer to https://sagemaker.readthedocs.io/en/stable/overview.html#configuring-and-using-defaults-with-the-sagemaker-python-sdk.\n",
      "INFO:sagemaker.local.image:'Docker Compose' is not installed. Proceeding to check for 'docker-compose' CLI.\n",
      "INFO:sagemaker.local.image:'Docker Compose' found using Docker Compose CLI.\n",
      "INFO:sagemaker.local.local_session:Starting training job\n",
      "INFO:botocore.credentials:Found credentials from IAM Role: BaseNotebookInstanceEc2InstanceRole\n",
      "INFO:sagemaker.local.image:No AWS credentials found in session but credentials from EC2 Metadata Service are available.\n",
      "INFO:sagemaker.local.image:docker compose file: \n",
      "networks:\n",
      "  sagemaker-local:\n",
      "    name: sagemaker-local\n",
      "services:\n",
      "  algo-1-wfcr3:\n",
      "    command: train\n",
      "    container_name: u93syd3irv-algo-1-wfcr3\n",
      "    environment:\n",
      "    - '[Masked]'\n",
      "    - '[Masked]'\n",
      "    - '[Masked]'\n",
      "    image: tensorflow-training:2.12.0-cpu-py310-name_tag\n",
      "    networks:\n",
      "      sagemaker-local:\n",
      "        aliases:\n",
      "        - algo-1-wfcr3\n",
      "    stdin_open: true\n",
      "    tty: true\n",
      "    volumes:\n",
      "    - /tmp/tmp3ulylevb/algo-1-wfcr3/output/data:/opt/ml/output/data\n",
      "    - /tmp/tmp3ulylevb/algo-1-wfcr3/input:/opt/ml/input\n",
      "    - /tmp/tmp3ulylevb/algo-1-wfcr3/output:/opt/ml/output\n",
      "    - /tmp/tmp3ulylevb/model:/opt/ml/model\n",
      "    - /opt/ml/metadata:/opt/ml/metadata\n",
      "    - /home/ec2-user/SageMaker/2023-25.ML.UFS14_Flavio/data/input:/opt/ml/input/data/training\n",
      "version: '2.3'\n",
      "\n",
      "INFO:sagemaker.local.image:docker command: docker-compose -f /tmp/tmp3ulylevb/docker-compose.yaml up --build --abort-on-container-exit\n"
     ]
    },
    {
     "name": "stdout",
     "output_type": "stream",
     "text": [
      "##### ESTIMATOR FIT STARTED\n",
      " Container u93syd3irv-algo-1-wfcr3  Creating\n",
      " Container u93syd3irv-algo-1-wfcr3  Created\n",
      "Attaching to u93syd3irv-algo-1-wfcr3\n",
      "u93syd3irv-algo-1-wfcr3  | 2024-10-18 13:19:10,628 sagemaker-training-toolkit INFO     Imported framework sagemaker_tensorflow_container.training\n",
      "u93syd3irv-algo-1-wfcr3  | 2024-10-18 13:19:10,630 sagemaker-training-toolkit INFO     No GPUs detected (normal if no gpus installed)\n",
      "u93syd3irv-algo-1-wfcr3  | 2024-10-18 13:19:10,631 sagemaker-training-toolkit INFO     No Neurons detected (normal if no neurons installed)\n",
      "u93syd3irv-algo-1-wfcr3  | 2024-10-18 13:19:10,642 sagemaker-training-toolkit INFO     instance_groups entry not present in resource_config\n",
      "u93syd3irv-algo-1-wfcr3  | 2024-10-18 13:19:10,646 sagemaker-training-toolkit INFO     No GPUs detected (normal if no gpus installed)\n",
      "u93syd3irv-algo-1-wfcr3  | 2024-10-18 13:19:10,647 sagemaker-training-toolkit INFO     No Neurons detected (normal if no neurons installed)\n",
      "u93syd3irv-algo-1-wfcr3  | 2024-10-18 13:19:10,658 sagemaker-training-toolkit INFO     instance_groups entry not present in resource_config\n",
      "u93syd3irv-algo-1-wfcr3  | 2024-10-18 13:19:10,663 sagemaker-training-toolkit INFO     No GPUs detected (normal if no gpus installed)\n",
      "u93syd3irv-algo-1-wfcr3  | 2024-10-18 13:19:10,664 sagemaker-training-toolkit INFO     No Neurons detected (normal if no neurons installed)\n",
      "u93syd3irv-algo-1-wfcr3  | 2024-10-18 13:19:10,675 sagemaker-training-toolkit INFO     instance_groups entry not present in resource_config\n",
      "u93syd3irv-algo-1-wfcr3  | 2024-10-18 13:19:10,678 sagemaker-training-toolkit INFO     No GPUs detected (normal if no gpus installed)\n",
      "u93syd3irv-algo-1-wfcr3  | 2024-10-18 13:19:10,679 sagemaker-training-toolkit INFO     No Neurons detected (normal if no neurons installed)\n",
      "u93syd3irv-algo-1-wfcr3  | 2024-10-18 13:19:10,693 sagemaker-training-toolkit INFO     instance_groups entry not present in resource_config\n",
      "u93syd3irv-algo-1-wfcr3  | 2024-10-18 13:19:10,696 sagemaker-training-toolkit INFO     Invoking user script\n",
      "u93syd3irv-algo-1-wfcr3  | \n",
      "u93syd3irv-algo-1-wfcr3  | Training Env:\n",
      "u93syd3irv-algo-1-wfcr3  | \n",
      "u93syd3irv-algo-1-wfcr3  | {\n",
      "u93syd3irv-algo-1-wfcr3  |     \"additional_framework_parameters\": {},\n",
      "u93syd3irv-algo-1-wfcr3  |     \"channel_input_dirs\": {\n",
      "u93syd3irv-algo-1-wfcr3  |         \"training\": \"/opt/ml/input/data/training\"\n",
      "u93syd3irv-algo-1-wfcr3  |     },\n",
      "u93syd3irv-algo-1-wfcr3  |     \"current_host\": \"algo-1-wfcr3\",\n",
      "u93syd3irv-algo-1-wfcr3  |     \"current_instance_group\": \"homogeneousCluster\",\n",
      "u93syd3irv-algo-1-wfcr3  |     \"current_instance_group_hosts\": [],\n",
      "u93syd3irv-algo-1-wfcr3  |     \"current_instance_type\": \"local\",\n",
      "u93syd3irv-algo-1-wfcr3  |     \"distribution_hosts\": [\n",
      "u93syd3irv-algo-1-wfcr3  |         \"algo-1-wfcr3\"\n",
      "u93syd3irv-algo-1-wfcr3  |     ],\n",
      "u93syd3irv-algo-1-wfcr3  |     \"distribution_instance_groups\": [],\n",
      "u93syd3irv-algo-1-wfcr3  |     \"framework_module\": \"sagemaker_tensorflow_container.training:main\",\n",
      "u93syd3irv-algo-1-wfcr3  |     \"hosts\": [\n",
      "u93syd3irv-algo-1-wfcr3  |         \"algo-1-wfcr3\"\n",
      "u93syd3irv-algo-1-wfcr3  |     ],\n",
      "u93syd3irv-algo-1-wfcr3  |     \"hyperparameters\": {\n",
      "u93syd3irv-algo-1-wfcr3  |         \"epochs\": 1\n",
      "u93syd3irv-algo-1-wfcr3  |     },\n",
      "u93syd3irv-algo-1-wfcr3  |     \"input_config_dir\": \"/opt/ml/input/config\",\n",
      "u93syd3irv-algo-1-wfcr3  |     \"input_data_config\": {\n",
      "u93syd3irv-algo-1-wfcr3  |         \"training\": {\n",
      "u93syd3irv-algo-1-wfcr3  |             \"TrainingInputMode\": \"File\"\n",
      "u93syd3irv-algo-1-wfcr3  |         }\n",
      "u93syd3irv-algo-1-wfcr3  |     },\n",
      "u93syd3irv-algo-1-wfcr3  |     \"input_dir\": \"/opt/ml/input\",\n",
      "u93syd3irv-algo-1-wfcr3  |     \"instance_groups\": [],\n",
      "u93syd3irv-algo-1-wfcr3  |     \"instance_groups_dict\": {},\n",
      "u93syd3irv-algo-1-wfcr3  |     \"is_hetero\": false,\n",
      "u93syd3irv-algo-1-wfcr3  |     \"is_master\": true,\n",
      "u93syd3irv-algo-1-wfcr3  |     \"is_modelparallel_enabled\": null,\n",
      "u93syd3irv-algo-1-wfcr3  |     \"is_smddpmprun_installed\": false,\n",
      "u93syd3irv-algo-1-wfcr3  |     \"is_smddprun_installed\": false,\n",
      "u93syd3irv-algo-1-wfcr3  |     \"job_name\": \"tensorflow-training-2024-10-18-13-19-06-555\",\n",
      "u93syd3irv-algo-1-wfcr3  |     \"log_level\": 20,\n",
      "u93syd3irv-algo-1-wfcr3  |     \"master_hostname\": \"algo-1-wfcr3\",\n",
      "u93syd3irv-algo-1-wfcr3  |     \"model_dir\": \"/opt/ml/model\",\n",
      "u93syd3irv-algo-1-wfcr3  |     \"module_dir\": \"/opt/ml/code\",\n",
      "u93syd3irv-algo-1-wfcr3  |     \"module_name\": \"main\",\n",
      "u93syd3irv-algo-1-wfcr3  |     \"network_interface_name\": \"eth0\",\n",
      "u93syd3irv-algo-1-wfcr3  |     \"num_cpus\": 4,\n",
      "u93syd3irv-algo-1-wfcr3  |     \"num_gpus\": 0,\n",
      "u93syd3irv-algo-1-wfcr3  |     \"num_neurons\": 0,\n",
      "u93syd3irv-algo-1-wfcr3  |     \"output_data_dir\": \"/opt/ml/output/data\",\n",
      "u93syd3irv-algo-1-wfcr3  |     \"output_dir\": \"/opt/ml/output\",\n",
      "u93syd3irv-algo-1-wfcr3  |     \"output_intermediate_dir\": \"/opt/ml/output/intermediate\",\n",
      "u93syd3irv-algo-1-wfcr3  |     \"resource_config\": {\n",
      "u93syd3irv-algo-1-wfcr3  |         \"current_host\": \"algo-1-wfcr3\",\n",
      "u93syd3irv-algo-1-wfcr3  |         \"hosts\": [\n",
      "u93syd3irv-algo-1-wfcr3  |             \"algo-1-wfcr3\"\n",
      "u93syd3irv-algo-1-wfcr3  |         ]\n",
      "u93syd3irv-algo-1-wfcr3  |     },\n",
      "u93syd3irv-algo-1-wfcr3  |     \"user_entry_point\": \"main.py\"\n",
      "u93syd3irv-algo-1-wfcr3  | }\n",
      "u93syd3irv-algo-1-wfcr3  | \n",
      "u93syd3irv-algo-1-wfcr3  | Environment variables:\n",
      "u93syd3irv-algo-1-wfcr3  | \n",
      "u93syd3irv-algo-1-wfcr3  | SM_HOSTS=[\"algo-1-wfcr3\"]\n",
      "u93syd3irv-algo-1-wfcr3  | SM_NETWORK_INTERFACE_NAME=eth0\n",
      "u93syd3irv-algo-1-wfcr3  | SM_HPS={\"epochs\":1}\n",
      "u93syd3irv-algo-1-wfcr3  | SM_USER_ENTRY_POINT=main.py\n",
      "u93syd3irv-algo-1-wfcr3  | SM_FRAMEWORK_PARAMS={}\n",
      "u93syd3irv-algo-1-wfcr3  | SM_RESOURCE_CONFIG={\"current_host\":\"algo-1-wfcr3\",\"hosts\":[\"algo-1-wfcr3\"]}\n",
      "u93syd3irv-algo-1-wfcr3  | SM_INPUT_DATA_CONFIG={\"training\":{\"TrainingInputMode\":\"File\"}}\n",
      "u93syd3irv-algo-1-wfcr3  | SM_OUTPUT_DATA_DIR=/opt/ml/output/data\n",
      "u93syd3irv-algo-1-wfcr3  | SM_CHANNELS=[\"training\"]\n",
      "u93syd3irv-algo-1-wfcr3  | SM_CURRENT_HOST=algo-1-wfcr3\n",
      "u93syd3irv-algo-1-wfcr3  | SM_CURRENT_INSTANCE_TYPE=local\n",
      "u93syd3irv-algo-1-wfcr3  | SM_CURRENT_INSTANCE_GROUP=homogeneousCluster\n",
      "u93syd3irv-algo-1-wfcr3  | SM_CURRENT_INSTANCE_GROUP_HOSTS=[]\n",
      "u93syd3irv-algo-1-wfcr3  | SM_INSTANCE_GROUPS=[]\n",
      "u93syd3irv-algo-1-wfcr3  | SM_INSTANCE_GROUPS_DICT={}\n",
      "u93syd3irv-algo-1-wfcr3  | SM_DISTRIBUTION_INSTANCE_GROUPS=[]\n",
      "u93syd3irv-algo-1-wfcr3  | SM_IS_HETERO=false\n",
      "u93syd3irv-algo-1-wfcr3  | SM_MODULE_NAME=main\n",
      "u93syd3irv-algo-1-wfcr3  | SM_LOG_LEVEL=20\n",
      "u93syd3irv-algo-1-wfcr3  | SM_FRAMEWORK_MODULE=sagemaker_tensorflow_container.training:main\n",
      "u93syd3irv-algo-1-wfcr3  | SM_INPUT_DIR=/opt/ml/input\n",
      "u93syd3irv-algo-1-wfcr3  | SM_INPUT_CONFIG_DIR=/opt/ml/input/config\n",
      "u93syd3irv-algo-1-wfcr3  | SM_OUTPUT_DIR=/opt/ml/output\n",
      "u93syd3irv-algo-1-wfcr3  | SM_NUM_CPUS=4\n",
      "u93syd3irv-algo-1-wfcr3  | SM_NUM_GPUS=0\n",
      "u93syd3irv-algo-1-wfcr3  | SM_NUM_NEURONS=0\n",
      "u93syd3irv-algo-1-wfcr3  | SM_MODEL_DIR=/opt/ml/model\n",
      "u93syd3irv-algo-1-wfcr3  | SM_MODULE_DIR=/opt/ml/code\n",
      "u93syd3irv-algo-1-wfcr3  | SM_TRAINING_ENV={\"additional_framework_parameters\":{},\"channel_input_dirs\":{\"training\":\"/opt/ml/input/data/training\"},\"current_host\":\"algo-1-wfcr3\",\"current_instance_group\":\"homogeneousCluster\",\"current_instance_group_hosts\":[],\"current_instance_type\":\"local\",\"distribution_hosts\":[\"algo-1-wfcr3\"],\"distribution_instance_groups\":[],\"framework_module\":\"sagemaker_tensorflow_container.training:main\",\"hosts\":[\"algo-1-wfcr3\"],\"hyperparameters\":{\"epochs\":1},\"input_config_dir\":\"/opt/ml/input/config\",\"input_data_config\":{\"training\":{\"TrainingInputMode\":\"File\"}},\"input_dir\":\"/opt/ml/input\",\"instance_groups\":[],\"instance_groups_dict\":{},\"is_hetero\":false,\"is_master\":true,\"is_modelparallel_enabled\":null,\"is_smddpmprun_installed\":false,\"is_smddprun_installed\":false,\"job_name\":\"tensorflow-training-2024-10-18-13-19-06-555\",\"log_level\":20,\"master_hostname\":\"algo-1-wfcr3\",\"model_dir\":\"/opt/ml/model\",\"module_dir\":\"/opt/ml/code\",\"module_name\":\"main\",\"network_interface_name\":\"eth0\",\"num_cpus\":4,\"num_gpus\":0,\"num_neurons\":0,\"output_data_dir\":\"/opt/ml/output/data\",\"output_dir\":\"/opt/ml/output\",\"output_intermediate_dir\":\"/opt/ml/output/intermediate\",\"resource_config\":{\"current_host\":\"algo-1-wfcr3\",\"hosts\":[\"algo-1-wfcr3\"]},\"user_entry_point\":\"main.py\"}\n",
      "u93syd3irv-algo-1-wfcr3  | SM_USER_ARGS=[\"--epochs\",\"1\"]\n",
      "u93syd3irv-algo-1-wfcr3  | SM_OUTPUT_INTERMEDIATE_DIR=/opt/ml/output/intermediate\n",
      "u93syd3irv-algo-1-wfcr3  | SM_CHANNEL_TRAINING=/opt/ml/input/data/training\n",
      "u93syd3irv-algo-1-wfcr3  | SM_HP_EPOCHS=1\n",
      "u93syd3irv-algo-1-wfcr3  | PYTHONPATH=/opt/ml/code:/usr/local/bin:/usr/local/lib/python310.zip:/usr/local/lib/python3.10:/usr/local/lib/python3.10/lib-dynload:/usr/local/lib/python3.10/site-packages:/usr/local/lib/python3.10/site-packages/smdebug-1.0.33-py3.10.egg:/usr/local/lib/python3.10/site-packages/pyinstrument-3.4.2-py3.10.egg:/usr/local/lib/python3.10/site-packages/pyinstrument_cext-0.2.4-py3.10-linux-x86_64.egg\n",
      "u93syd3irv-algo-1-wfcr3  | \n",
      "u93syd3irv-algo-1-wfcr3  | Invoking script with the following command:\n",
      "u93syd3irv-algo-1-wfcr3  | \n",
      "u93syd3irv-algo-1-wfcr3  | /usr/local/bin/python3.10 main.py --epochs 1\n",
      "u93syd3irv-algo-1-wfcr3  | \n",
      "u93syd3irv-algo-1-wfcr3  | \n",
      "u93syd3irv-algo-1-wfcr3  | Extension horovod.torch has not been built: /usr/local/lib/python3.10/site-packages/horovod/torch/mpi_lib_v2.cpython-310-x86_64-linux-gnu.so not found\n",
      "u93syd3irv-algo-1-wfcr3  | If this is not expected, reinstall Horovod with HOROVOD_WITH_PYTORCH=1 to debug the build error.\n",
      "u93syd3irv-algo-1-wfcr3  | Warning! MPI libs are missing, but python applications are still available.\n",
      "u93syd3irv-algo-1-wfcr3  | 2024-10-18 13:19:10,891 sagemaker-training-toolkit INFO     Waiting for the process to finish and give a return code.\n",
      "u93syd3irv-algo-1-wfcr3  | 2024-10-18 13:19:10,891 sagemaker-training-toolkit INFO     Done waiting for a return code. Received 0 from exiting process.\n",
      "u93syd3irv-algo-1-wfcr3  | 2024-10-18 13:19:10,892 sagemaker_tensorflow_container.training WARNING  Your model will NOT be servable with SageMaker TensorFlow Serving container. The model artifact was not saved in the TensorFlow SavedModel directory structure:\n",
      "u93syd3irv-algo-1-wfcr3  | https://www.tensorflow.org/guide/saved_model#structure_of_a_savedmodel_directory\n",
      "u93syd3irv-algo-1-wfcr3  | 2024-10-18 13:19:10,892 sagemaker-training-toolkit INFO     Reporting training SUCCESS\n"
     ]
    },
    {
     "name": "stderr",
     "output_type": "stream",
     "text": [
      "INFO:sagemaker.local.image:===== Job Complete =====\n"
     ]
    },
    {
     "name": "stdout",
     "output_type": "stream",
     "text": [
      "u93syd3irv-algo-1-wfcr3 exited with code 0\n",
      "Aborting on container exit...\n",
      " Container u93syd3irv-algo-1-wfcr3  Stopping\n",
      " Container u93syd3irv-algo-1-wfcr3  Stopped\n",
      "##### ESTIMATOR FIT COMPLETED\n"
     ]
    }
   ],
   "source": [
    "from sagemaker import get_execution_role\n",
    "from sagemaker.estimator import Estimator\n",
    "import os\n",
    "\n",
    "role=get_execution_role()\n",
    "\n",
    "hyperparameters={'epochs': 1}\n",
    "\n",
    "estimator=Estimator(\n",
    "    image_uri='tensorflow-training:2.12.0-cpu-py310-name_tag',\n",
    "    role=role,\n",
    "    instance_count=1,\n",
    "    instance_type='local',\n",
    "    hyperparameters=hyperparameters,\n",
    "    output_path='file://{}/data/output'.format(os.getcwd())\n",
    ")\n",
    "\n",
    "print('##### ESTIMATOR FIT STARTED')\n",
    "estimator.fit('file://{}/data/input/train.csv'.format(os.getcwd()))\n",
    "print('##### ESTIMATOR FIT COMPLETED')"
   ]
  },
  {
   "cell_type": "code",
   "execution_count": 24,
   "id": "176deedd",
   "metadata": {},
   "outputs": [],
   "source": [
    "!tar -xzf data/output/output.tar.gz"
   ]
  },
  {
   "cell_type": "code",
   "execution_count": 27,
   "id": "9016bce6",
   "metadata": {},
   "outputs": [],
   "source": [
    "!tar -xzf ./data/output/model.tar.gz"
   ]
  },
  {
   "cell_type": "code",
   "execution_count": 26,
   "id": "30c788c0",
   "metadata": {},
   "outputs": [
    {
     "name": "stdout",
     "output_type": "stream",
     "text": [
      "Traceback (most recent call last):\n",
      "  File \"/home/ec2-user/SageMaker/2023-25.ML.UFS14_Flavio/main.py\", line 8, in <module>\n",
      "    output_dir = os.environ['SM_OUTPUT_DIR']\n",
      "  File \"/home/ec2-user/anaconda3/envs/python3/lib/python3.10/os.py\", line 680, in __getitem__\n",
      "    raise KeyError(key) from None\n",
      "KeyError: 'SM_OUTPUT_DIR'\n"
     ]
    }
   ],
   "source": [
    "!SM_MODEL_DIR=\"./data/output\" python main.py"
   ]
  },
  {
   "cell_type": "code",
   "execution_count": null,
   "id": "353c1106",
   "metadata": {},
   "outputs": [],
   "source": []
  }
 ],
 "metadata": {
  "kernelspec": {
   "display_name": "conda_python3",
   "language": "python",
   "name": "conda_python3"
  },
  "language_info": {
   "codemirror_mode": {
    "name": "ipython",
    "version": 3
   },
   "file_extension": ".py",
   "mimetype": "text/x-python",
   "name": "python",
   "nbconvert_exporter": "python",
   "pygments_lexer": "ipython3",
   "version": "3.10.14"
  }
 },
 "nbformat": 4,
 "nbformat_minor": 5
}
